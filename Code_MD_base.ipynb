{
 "cells": [
  {
   "cell_type": "code",
   "execution_count": null,
   "metadata": {},
   "outputs": [],
   "source": [
    "from pathlib import Path\n",
    "import matplotlib.pyplot as plt\n",
    "\n",
    "from modules.md_c_interface import launch_simulation\n",
    "\n",
    "from modules.md_utils import complementaire # utils\n",
    "from modules.md_utils import plot_crystal, plot_2d_simu # plotting\n",
    "from modules.md_utils import process_results"
   ]
  },
  {
   "cell_type": "markdown",
   "metadata": {},
   "source": [
    "# 1ère partie, états finaux des N ions\n",
    "\n",
    "Ions should be selected amongst the ones available [here](../md2_notebook_resources/available_ion.png).\n",
    "\n",
    "As for the parameters, a lots of them are available. You can see them all in [1](../md2_notebook_resources/table_key_description_1.png), [2](../md2_notebook_resources/table_key_description_2.png) and [3](../md2_notebook_resources/table_key_description_3.png).\n",
    "\n",
    "For simplicity reasons, only a few are available in the following algorithms : ion, ionE, Tset, ionT, ionP, tau, n, dt, dtv and i1.\n",
    "\n",
    "Which should be given for example like :\n",
    "\n",
    "```python\n",
    "params = {\n",
    "    '-ion' : \"Ar\",\n",
    "    '-ionE' : 50, # eV\n",
    "    '-Tset' : 300, # K\n",
    "    '-ionT' : 0, # Degree\n",
    "    '-ionP' : 0, # Degree\n",
    "    '-tau' : 0.01, # s\n",
    "    '-n' : 250, # nb time steps\n",
    "    '-dt' : 1.e-3, # time step, s\n",
    "    '-i1' : 2, \n",
    "}\n",
    "\n",
    "flags = ['+dtv']\n",
    "```"
   ]
  },
  {
   "cell_type": "markdown",
   "metadata": {},
   "source": [
    "# Quelques simulations "
   ]
  },
  {
   "cell_type": "code",
   "execution_count": null,
   "metadata": {},
   "outputs": [],
   "source": [
    "colors = {\n",
    "    'Si':'gray',\n",
    "    'Ar':'darkviolet',\n",
    "    'I':'violet',\n",
    "    'Kr':'lightskyblue',\n",
    "    'Xe':'dodgerblue',\n",
    "    'CF3':'red'\n",
    "}\n",
    "radii = {\n",
    "    'Si': 1.11, # Angstrom\n",
    "    'Ar' : 1.06,\n",
    "    'I' : 1.98,\n",
    "    'Kr': 2.02,\n",
    "    'Xe': 2.17,\n",
    "    'CF3': 1\n",
    "}"
   ]
  },
  {
   "cell_type": "code",
   "execution_count": null,
   "metadata": {},
   "outputs": [],
   "source": [
    "ions = ['Ar'] # ['Ar','Kr','Xe', 'CF3']\n",
    "names = ['../md2_results/test_{}'.format(ion) for ion in ions]\n",
    "params = {\n",
    "    '-ion' : \"XX\",\n",
    "    '-ionE' : 0.001, # eV\n",
    "    '-Tset' : 1000, # K\n",
    "    '-ionT' : 20, # Degree - phi incident\n",
    "    '-ionP' : 0, # Degree - theta incident\n",
    "    '-tau' : 0.01, \n",
    "    '-n' : 250, # nb time steps\n",
    "    '-dt' : 1e-3, # time step\n",
    "    '-i1' : 1, # number of ions launched \n",
    "}\n",
    "\n",
    "flags = ['+dtv']"
   ]
  },
  {
   "cell_type": "code",
   "execution_count": null,
   "metadata": {},
   "outputs": [],
   "source": [
    "for ion, name in zip(ions, names):\n",
    "    params['-ion'] = ion\n",
    "    launch_simulation(name, params, flags)"
   ]
  },
  {
   "cell_type": "code",
   "execution_count": null,
   "metadata": {},
   "outputs": [],
   "source": [
    "results_Ar = process_results(Path.cwd()/'md2_sources'/names[0])"
   ]
  },
  {
   "cell_type": "code",
   "execution_count": null,
   "metadata": {},
   "outputs": [],
   "source": [
    "print(r'Format : name ion - theta - phi')\n",
    "plot_2d_simu(ion, results_Ar.ion.dataframes['0001.ion'], results_Ar.crystal.dataframes['0001.cfg'], radii, colors, start = True)"
   ]
  },
  {
   "cell_type": "markdown",
   "metadata": {},
   "source": [
    "# Plotting additional stuff"
   ]
  },
  {
   "cell_type": "code",
   "execution_count": null,
   "metadata": {},
   "outputs": [],
   "source": [
    "for k in range(results_Ar.log.nb_traj) :\n",
    "    results_Ar.log.plot_instantaneous_temperature_K(k)\n",
    "    plt.show()"
   ]
  }
 ],
 "metadata": {
  "interpreter": {
   "hash": "384d16da1314a116da438045ae5b6fcb36131ce99738cf1374eed8a27a29839a"
  },
  "kernelspec": {
   "display_name": "Python 3.8.8 64-bit ('lpp': conda)",
   "name": "python3"
  },
  "language_info": {
   "codemirror_mode": {
    "name": "ipython",
    "version": 3
   },
   "file_extension": ".py",
   "mimetype": "text/x-python",
   "name": "python",
   "nbconvert_exporter": "python",
   "pygments_lexer": "ipython3",
   "version": "3.8.12"
  }
 },
 "nbformat": 4,
 "nbformat_minor": 4
}
